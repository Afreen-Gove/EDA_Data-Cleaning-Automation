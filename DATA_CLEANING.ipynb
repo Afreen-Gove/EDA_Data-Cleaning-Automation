{
  "nbformat": 4,
  "nbformat_minor": 0,
  "metadata": {
    "colab": {
      "name": "DATA CLEANING",
      "private_outputs": true,
      "provenance": []
    },
    "kernelspec": {
      "name": "python3",
      "display_name": "Python 3"
    },
    "language_info": {
      "name": "python"
    }
  },
  "cells": [
    {
      "cell_type": "code",
      "execution_count": null,
      "metadata": {
        "id": "wzgdkmG3wqqC"
      },
      "outputs": [],
      "source": [
        "import numpy as np\n",
        "import pandas as pd\n",
        "import matplotlib.pyplot as plt\n",
        "import seaborn as sb\n",
        "from scipy import stats as st"
      ]
    },
    {
      "cell_type": "code",
      "source": [
        "def read_data(general_data):\n",
        "  data=pd.read_csv(general_data)\n",
        "  missing_info=missing_loop(data)\n",
        "  req_data=require_data(data, missing_info)\n",
        "  ready_for_testing=testing_data(req_data)\n",
        "  return (ready_for_testing)\n"
      ],
      "metadata": {
        "id": "R0GqdV-GwxJ2"
      },
      "execution_count": null,
      "outputs": []
    },
    {
      "cell_type": "code",
      "source": [
        "def missing_data(general_data1, data):\n",
        "  x=data[general_data1]\n",
        "  nul_val=x.isnull().value_counts()\n",
        "  p_miss=(((len(x)-nul_val[0])/len(x))*100)\n",
        "  return  p_miss\n"
      ],
      "metadata": {
        "id": "ggMdnmrSyeMb"
      },
      "execution_count": null,
      "outputs": []
    },
    {
      "cell_type": "code",
      "source": [
        "\n",
        "def missing_loop(data):\n",
        "  miss_data=[]\n",
        "  column_data=[]\n",
        "  for i in data.columns:\n",
        "    b=missing_data(i, data)\n",
        "    column_data.append(b)\n",
        "    miss_data.append(i)\n",
        "  zip_iterator = zip(miss_data, column_data)\n",
        "  a_dictionary = dict(zip_iterator) \n",
        "  return a_dictionary\n",
        "\n"
      ],
      "metadata": {
        "id": "yEFp9dekdIeM"
      },
      "execution_count": null,
      "outputs": []
    },
    {
      "cell_type": "code",
      "source": [
        "def require_data(data, a_dictionary):\n",
        "  drop_column=[]\n",
        "  for i in a_dictionary.keys():\n",
        "    if a_dictionary[i]>=25:\n",
        "      drop_column.append(i)\n",
        "  data.drop(drop_column, axis='columns', inplace=True)\n",
        "  return data"
      ],
      "metadata": {
        "id": "4f2WdYo3omRj"
      },
      "execution_count": null,
      "outputs": []
    },
    {
      "cell_type": "code",
      "source": [
        "def column_type(data):\n",
        "  type_column=[]\n",
        "  for i in data.columns:\n",
        "    type_column.append(str(data[i].dtype))\n",
        "  zip_iterator1 = zip(data.columns, type_column)\n",
        "  a_dictionary1 = dict(zip_iterator1) \n",
        "  return a_dictionary1"
      ],
      "metadata": {
        "id": "gj9ZRtRLnK4s"
      },
      "execution_count": null,
      "outputs": []
    },
    {
      "cell_type": "code",
      "source": [
        "def testing_data(data):\n",
        "  a_dictionary1=column_type(data)\n",
        "  for i in a_dictionary1:\n",
        "    if a_dictionary1[i]=='object':\n",
        "      data[i].fillna(data[i].mode()[0], inplace=True)\n",
        "    elif a_dictionary1[i]== 'float64':\n",
        "      q3=np.nanquantile(data[i], 0.75)\n",
        "      q1=np.nanquantile(data[i], 0.25)\n",
        "      iq=q3-q1\n",
        "      pout=q3+1.5*iq\n",
        "      nout=q1-1.5*iq\n",
        "      for k in data[i]:\n",
        "        if k>pout:\n",
        "          flag=True\n",
        "          break\n",
        "        elif k<nout:\n",
        "          flag=True\n",
        "        else:\n",
        "          flag=False\n",
        "      if flag==True:\n",
        "        a=np.nanmedian(data[i])\n",
        "        data[i].replace(to_replace=np.nan,value=a, inplace=True )\n",
        "      elif flag==False:\n",
        "        a=np.nanmean(data[i])\n",
        "        data[data[i]].replace(to_replace=np.nan,value=a, inplace=True )\n",
        "\n",
        "  return data\n"
      ],
      "metadata": {
        "id": "f_wqh7tBjGH9"
      },
      "execution_count": null,
      "outputs": []
    },
    {
      "cell_type": "code",
      "source": [
        "data_2020=read_data('/content/IT Salary Survey EU  2020.csv')\n",
        "data_2018=read_data('/content/IT Salary Survey EU 2018.csv')"
      ],
      "metadata": {
        "id": "n5-5uu8GxE1T"
      },
      "execution_count": null,
      "outputs": []
    },
    {
      "cell_type": "code",
      "source": [
        "data_2020.head()"
      ],
      "metadata": {
        "id": "MHPXqrDmsTy7"
      },
      "execution_count": null,
      "outputs": []
    },
    {
      "cell_type": "code",
      "source": [
        "data_2018"
      ],
      "metadata": {
        "id": "Okay2sAqsdR1"
      },
      "execution_count": null,
      "outputs": []
    }
  ]
}